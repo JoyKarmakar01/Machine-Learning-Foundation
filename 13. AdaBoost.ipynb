{
 "cells": [
  {
   "cell_type": "markdown",
   "id": "f02f5a88",
   "metadata": {},
   "source": [
    "#### Introduction\n",
    "AdaBoost (Adaptive Boosting) is an ensemble learning algorithm that combines multiple weak classifiers to create a strong classifier. It focuses on instances that previous classifiers misclassified.\n",
    "\n",
    "#### How AdaBoost Works\n",
    "1. **Initialize Weights**: Assign equal weights to all training instances.\n",
    "2. **Train Weak Learner**: Train a weak classifier on the weighted data.\n",
    "3. **Update Weights**: Increase weights of misclassified instances and decrease weights of correctly classified ones.\n",
    "4. **Combine Weak Learners**: Aggregate the weak learners to form a strong classifier.\n",
    "\n",
    "#### Advantages\n",
    "- Improves accuracy by combining weak learners.\n",
    "- Less prone to overfitting compared to single classifiers.\n",
    "- Versatile and can be used with various base learners.\n",
    "\n",
    "#### Disadvantages\n",
    "- Sensitive to noisy data and outliers.\n",
    "- Requires careful tuning of parameters.\n",
    "\n",
    "#### Steps to Build an AdaBoost Model\n",
    "1. **Data Preparation**: Clean the data and handle missing values.\n",
    "2. **Train-Test Split**: Split the dataset into training and test sets.\n",
    "3. **Model Training**: Train the AdaBoost model using the training data.\n",
    "4. **Model Evaluation**: Assess the performance using appropriate metrics.\n",
    "5. **Hyperparameter Tuning**: Optimize parameters like number of estimators and learning rate.\n"
   ]
  },
  {
   "cell_type": "code",
   "execution_count": 5,
   "id": "51e51fa5",
   "metadata": {},
   "outputs": [
    {
     "name": "stderr",
     "output_type": "stream",
     "text": [
      "C:\\Users\\karma\\anaconda3\\lib\\site-packages\\sklearn\\ensemble\\_weight_boosting.py:519: FutureWarning: The SAMME.R algorithm (the default) is deprecated and will be removed in 1.6. Use the SAMME algorithm to circumvent this warning.\n",
      "  warnings.warn(\n"
     ]
    },
    {
     "name": "stdout",
     "output_type": "stream",
     "text": [
      "Accuracy: 97.66%\n",
      "\n",
      "Classification Report:\n",
      "              precision    recall  f1-score   support\n",
      "\n",
      "   malignant       0.97      0.97      0.97        63\n",
      "      benign       0.98      0.98      0.98       108\n",
      "\n",
      "    accuracy                           0.98       171\n",
      "   macro avg       0.97      0.97      0.97       171\n",
      "weighted avg       0.98      0.98      0.98       171\n",
      "\n",
      "\n",
      "Confusion Matrix:\n",
      "[[ 61   2]\n",
      " [  2 106]]\n"
     ]
    }
   ],
   "source": [
    "from sklearn.datasets import load_breast_cancer\n",
    "from sklearn.model_selection import train_test_split\n",
    "from sklearn.ensemble import AdaBoostClassifier\n",
    "from sklearn.tree import DecisionTreeClassifier\n",
    "from sklearn.metrics import accuracy_score, classification_report, confusion_matrix\n",
    "\n",
    "# Load dataset\n",
    "data = load_breast_cancer()\n",
    "X = data.data\n",
    "y = data.target\n",
    "\n",
    "# Split data into training and test sets\n",
    "X_train, X_test, y_train, y_test = train_test_split(X, y, test_size=0.3, random_state=42)\n",
    "\n",
    "# Initialize AdaBoost model with Decision Tree as base estimator\n",
    "base_estimator = DecisionTreeClassifier(max_depth=1)\n",
    "ada = AdaBoostClassifier(\n",
    "                         n_estimators=50,\n",
    "                         learning_rate=1.0,\n",
    "                         random_state=42)\n",
    "\n",
    "# Train the model\n",
    "ada.fit(X_train, y_train)\n",
    "\n",
    "# Make predictions\n",
    "y_pred = ada.predict(X_test)\n",
    "\n",
    "# Evaluate the model\n",
    "accuracy = accuracy_score(y_test, y_pred)\n",
    "print(f'Accuracy: {accuracy * 100:.2f}%')\n",
    "print(\"\\nClassification Report:\")\n",
    "print(classification_report(y_test, y_pred, target_names=data.target_names))\n",
    "print(\"\\nConfusion Matrix:\")\n",
    "print(confusion_matrix(y_test, y_pred))\n"
   ]
  },
  {
   "cell_type": "code",
   "execution_count": null,
   "id": "4e7b73cb",
   "metadata": {},
   "outputs": [],
   "source": []
  }
 ],
 "metadata": {
  "kernelspec": {
   "display_name": "Python 3 (ipykernel)",
   "language": "python",
   "name": "python3"
  },
  "language_info": {
   "codemirror_mode": {
    "name": "ipython",
    "version": 3
   },
   "file_extension": ".py",
   "mimetype": "text/x-python",
   "name": "python",
   "nbconvert_exporter": "python",
   "pygments_lexer": "ipython3",
   "version": "3.9.12"
  }
 },
 "nbformat": 4,
 "nbformat_minor": 5
}
