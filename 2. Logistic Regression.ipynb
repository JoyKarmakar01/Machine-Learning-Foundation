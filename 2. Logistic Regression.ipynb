{
 "cells": [
  {
   "cell_type": "markdown",
   "id": "75560f2e",
   "metadata": {},
   "source": [
    "### Logistic Regression\n",
    "\n",
    "#### Introduction\n",
    "Logistic Regression is a supervised learning algorithm used for binary classification tasks. It predicts the probability of the target variable belonging to a particular class.\n",
    "\n",
    "#### How Logistic Regression Works\n",
    "1. **Sigmoid Function**: Converts linear regression outputs into probabilities.\n",
    "2. **Logit Function**: The natural log of the odds ratio.\n",
    "3. **Maximum Likelihood Estimation (MLE)**: Used to estimate the parameters that maximize the likelihood of the observed data.\n",
    "\n",
    "#### Advantages\n",
    "- Simple to implement and interpret.\n",
    "- Outputs probabilities, which are useful for classification.\n",
    "- Effective with linearly separable data.\n",
    "\n",
    "#### Disadvantages\n",
    "- Assumes a linear relationship between the features and log-odds of the target.\n",
    "- Not suitable for complex relationships.\n",
    "- Sensitive to multicollinearity.\n",
    "\n",
    "#### Steps to Build a Logistic Regression Model\n",
    "1. **Data Preparation**: Clean the data and handle missing values.\n",
    "2. **Train-Test Split**: Split the dataset into training and test sets.\n",
    "3. **Model Training**: Train the logistic regression model using the training data.\n",
    "4. **Model Evaluation**: Assess the performance using metrics like accuracy, precision, and recall.\n",
    "5. **Visualization**: Plot the decision boundary."
   ]
  },
  {
   "cell_type": "markdown",
   "id": "1c61084d",
   "metadata": {},
   "source": [
    "#### Python Implementation"
   ]
  },
  {
   "cell_type": "code",
   "execution_count": 1,
   "id": "b6145a3d",
   "metadata": {},
   "outputs": [
    {
     "name": "stderr",
     "output_type": "stream",
     "text": [
      "C:\\Users\\karma\\anaconda3\\lib\\site-packages\\scipy\\__init__.py:146: UserWarning: A NumPy version >=1.16.5 and <1.23.0 is required for this version of SciPy (detected version 1.26.4\n",
      "  warnings.warn(f\"A NumPy version >={np_minversion} and <{np_maxversion}\"\n"
     ]
    },
    {
     "name": "stdout",
     "output_type": "stream",
     "text": [
      "Accuracy: 97.66%\n",
      "\n",
      "Classification Report:\n",
      "              precision    recall  f1-score   support\n",
      "\n",
      "   malignant       0.97      0.97      0.97        63\n",
      "      benign       0.98      0.98      0.98       108\n",
      "\n",
      "    accuracy                           0.98       171\n",
      "   macro avg       0.97      0.97      0.97       171\n",
      "weighted avg       0.98      0.98      0.98       171\n",
      "\n",
      "\n",
      "Confusion Matrix:\n",
      "[[ 61   2]\n",
      " [  2 106]]\n"
     ]
    }
   ],
   "source": [
    "from sklearn.datasets import load_breast_cancer\n",
    "from sklearn.model_selection import train_test_split\n",
    "from sklearn.linear_model import LogisticRegression\n",
    "from sklearn.metrics import accuracy_score, classification_report, confusion_matrix\n",
    "\n",
    "# Load dataset\n",
    "data = load_breast_cancer()\n",
    "X = data.data\n",
    "y = data.target\n",
    "\n",
    "# Split data into training and test sets\n",
    "X_train, X_test, y_train, y_test = train_test_split(X, y, test_size=0.3, random_state=42)\n",
    "\n",
    "# Initialize logistic regression model\n",
    "log_reg = LogisticRegression(max_iter=10000)\n",
    "\n",
    "# Train the model\n",
    "log_reg.fit(X_train, y_train)\n",
    "\n",
    "# Make predictions\n",
    "y_pred = log_reg.predict(X_test)\n",
    "\n",
    "# Evaluate the model\n",
    "accuracy = accuracy_score(y_test, y_pred)\n",
    "print(f'Accuracy: {accuracy * 100:.2f}%')\n",
    "print(\"\\nClassification Report:\")\n",
    "print(classification_report(y_test, y_pred, target_names=data.target_names))\n",
    "print(\"\\nConfusion Matrix:\")\n",
    "print(confusion_matrix(y_test, y_pred))"
   ]
  },
  {
   "cell_type": "code",
   "execution_count": null,
   "id": "a362b755",
   "metadata": {},
   "outputs": [],
   "source": []
  }
 ],
 "metadata": {
  "kernelspec": {
   "display_name": "Python 3 (ipykernel)",
   "language": "python",
   "name": "python3"
  },
  "language_info": {
   "codemirror_mode": {
    "name": "ipython",
    "version": 3
   },
   "file_extension": ".py",
   "mimetype": "text/x-python",
   "name": "python",
   "nbconvert_exporter": "python",
   "pygments_lexer": "ipython3",
   "version": "3.9.12"
  }
 },
 "nbformat": 4,
 "nbformat_minor": 5
}
