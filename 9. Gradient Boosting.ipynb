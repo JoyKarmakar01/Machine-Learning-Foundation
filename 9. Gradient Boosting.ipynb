{
 "cells": [
  {
   "cell_type": "markdown",
   "id": "98cc6258",
   "metadata": {},
   "source": [
    "#### Introduction\n",
    "Gradient Boosting is an ensemble learning algorithm that builds models sequentially, each new model correcting errors made by the previous ones.\n",
    "\n",
    "#### How Gradient Boosting Works\n",
    "1. **Initialize Model**: Start with an initial prediction, typically the mean of the target variable.\n",
    "2. **Calculate Residuals**: Compute the errors (residuals) of the current model.\n",
    "3. **Train Weak Learner**: Train a new model on the residuals.\n",
    "4. **Update Model**: Add the new model to the ensemble to correct errors.\n",
    "\n",
    "#### Advantages\n",
    "- High predictive accuracy.\n",
    "- Robust to overfitting with proper tuning.\n",
    "- Handles various types of data.\n",
    "\n",
    "#### Disadvantages\n",
    "- Computationally intensive.\n",
    "- Requires careful tuning of parameters.\n",
    "- Sensitive to noisy data.\n",
    "\n",
    "#### Steps to Build a Gradient Boosting Model\n",
    "1. **Data Preparation**: Clean the data and handle missing values.\n",
    "2. **Train-Test Split**: Split the dataset into training and test sets.\n",
    "3. **Model Training**: Train the gradient boosting model using the training data.\n",
    "4. **Model Evaluation**: Assess the performance using appropriate metrics.\n",
    "5. **Hyperparameter Tuning**: Optimize parameters like learning rate, number of estimators, and max depth.\n"
   ]
  },
  {
   "cell_type": "code",
   "execution_count": 1,
   "id": "801660ea",
   "metadata": {},
   "outputs": [
    {
     "name": "stderr",
     "output_type": "stream",
     "text": [
      "C:\\Users\\karma\\anaconda3\\lib\\site-packages\\scipy\\__init__.py:146: UserWarning: A NumPy version >=1.16.5 and <1.23.0 is required for this version of SciPy (detected version 1.26.4\n",
      "  warnings.warn(f\"A NumPy version >={np_minversion} and <{np_maxversion}\"\n"
     ]
    },
    {
     "name": "stdout",
     "output_type": "stream",
     "text": [
      "Accuracy: 95.91%\n",
      "\n",
      "Classification Report:\n",
      "              precision    recall  f1-score   support\n",
      "\n",
      "   malignant       0.95      0.94      0.94        63\n",
      "      benign       0.96      0.97      0.97       108\n",
      "\n",
      "    accuracy                           0.96       171\n",
      "   macro avg       0.96      0.95      0.96       171\n",
      "weighted avg       0.96      0.96      0.96       171\n",
      "\n",
      "\n",
      "Confusion Matrix:\n",
      "[[ 59   4]\n",
      " [  3 105]]\n"
     ]
    }
   ],
   "source": [
    "from sklearn.datasets import load_breast_cancer\n",
    "from sklearn.model_selection import train_test_split\n",
    "from sklearn.ensemble import GradientBoostingClassifier\n",
    "from sklearn.metrics import accuracy_score, classification_report, confusion_matrix\n",
    "\n",
    "# Load dataset\n",
    "data = load_breast_cancer()\n",
    "X = data.data\n",
    "y = data.target\n",
    "\n",
    "# Split data into training and test sets\n",
    "X_train, X_test, y_train, y_test = train_test_split(X, y, test_size=0.3, random_state=42)\n",
    "\n",
    "# Initialize Gradient Boosting model\n",
    "gb = GradientBoostingClassifier(n_estimators=100, learning_rate=0.1, max_depth=3, random_state=42)\n",
    "\n",
    "# Train the model\n",
    "gb.fit(X_train, y_train)\n",
    "\n",
    "# Make predictions\n",
    "y_pred = gb.predict(X_test)\n",
    "\n",
    "# Evaluate the model\n",
    "accuracy = accuracy_score(y_test, y_pred)\n",
    "print(f'Accuracy: {accuracy * 100:.2f}%')\n",
    "print(\"\\nClassification Report:\")\n",
    "print(classification_report(y_test, y_pred, target_names=data.target_names))\n",
    "print(\"\\nConfusion Matrix:\")\n",
    "print(confusion_matrix(y_test, y_pred))"
   ]
  },
  {
   "cell_type": "code",
   "execution_count": null,
   "id": "09e8255b",
   "metadata": {},
   "outputs": [],
   "source": [
    "you\n"
   ]
  }
 ],
 "metadata": {
  "kernelspec": {
   "display_name": "Python 3 (ipykernel)",
   "language": "python",
   "name": "python3"
  },
  "language_info": {
   "codemirror_mode": {
    "name": "ipython",
    "version": 3
   },
   "file_extension": ".py",
   "mimetype": "text/x-python",
   "name": "python",
   "nbconvert_exporter": "python",
   "pygments_lexer": "ipython3",
   "version": "3.9.12"
  }
 },
 "nbformat": 4,
 "nbformat_minor": 5
}
